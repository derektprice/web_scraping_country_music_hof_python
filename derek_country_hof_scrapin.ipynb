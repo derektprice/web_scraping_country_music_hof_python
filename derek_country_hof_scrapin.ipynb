{
 "cells": [
  {
   "cell_type": "code",
   "execution_count": null,
   "id": "59eb2ba4",
   "metadata": {},
   "outputs": [],
   "source": [
    "import requests\n",
    "from bs4 import BeautifulSoup  \n",
    "import pandas as pd\n",
    "import re\n",
    "import matplotlib.pyplot as plt\n",
    "import seaborn as sns\n",
    "import soupsieve as sv"
   ]
  },
  {
   "cell_type": "markdown",
   "id": "48bfdcd3",
   "metadata": {},
   "source": [
    "#### initialize empty lists"
   ]
  },
  {
   "cell_type": "code",
   "execution_count": null,
   "id": "64ee1dce",
   "metadata": {},
   "outputs": [],
   "source": [
    "sites_list = []\n",
    "namelist = []\n",
    "induct_year = []\n",
    "clean_induct_year = []"
   ]
  },
  {
   "cell_type": "markdown",
   "id": "f546df7c",
   "metadata": {},
   "source": [
    "#### create sites_list dynamically"
   ]
  },
  {
   "cell_type": "code",
   "execution_count": null,
   "id": "fe5db364",
   "metadata": {},
   "outputs": [],
   "source": [
    "firstpage = \"https://countrymusichalloffame.org/hall-of-fame/members/\"\n",
    "url_base = \"https://countrymusichalloffame.org/hall-of-fame/members/page/\" #no numbers here plz\n",
    "startpage = 2\n",
    "lastpage = 17 # make sure to go one more for python reasons!\n",
    "\n",
    "sites_list.append(firstpage)\n",
    "\n",
    "for i in range(startpage, lastpage):\n",
    "    sites_list.append(url_base + str(i))"
   ]
  },
  {
   "cell_type": "markdown",
   "id": "29643eb6",
   "metadata": {},
   "source": [
    "#### loop through list"
   ]
  },
  {
   "cell_type": "code",
   "execution_count": null,
   "id": "f2c15850",
   "metadata": {
    "scrolled": false
   },
   "outputs": [],
   "source": [
    "for site in sites_list:\n",
    "    response = requests.get(site)\n",
    "    soup = BeautifulSoup(response.content, 'lxml')\n",
    "    # loop to get names\n",
    "    for names in soup.find_all('h3'):\n",
    "        namelist.append(names.get_text())\n",
    "    # loop to get induction years\n",
    "    my_regex = re.compile(r\"Inducted\")\n",
    "    for year in soup.find_all(text = my_regex):\n",
    "        induct_year.append(year)"
   ]
  },
  {
   "cell_type": "code",
   "execution_count": null,
   "id": "4018a69a",
   "metadata": {},
   "outputs": [],
   "source": [
    "#cleaning induct_year output\n",
    "for el in induct_year:\n",
    "    clean_induct_year.append(el[-22:-18])"
   ]
  },
  {
   "cell_type": "code",
   "execution_count": null,
   "id": "effdf8dc",
   "metadata": {},
   "outputs": [],
   "source": [
    "### another way to get text from h3 tags\n",
    "# artist_list = [artist.text for artist in artist_names]"
   ]
  },
  {
   "cell_type": "markdown",
   "id": "b3e06992",
   "metadata": {},
   "source": [
    "### convert lists to df"
   ]
  },
  {
   "cell_type": "code",
   "execution_count": null,
   "id": "9353f513",
   "metadata": {
    "scrolled": true
   },
   "outputs": [],
   "source": [
    "country_df = pd.DataFrame()\n",
    "country_df['names'] = namelist\n",
    "country_df['Induction Year'] = clean_induct_year\n",
    "country_df[-20:]"
   ]
  },
  {
   "cell_type": "markdown",
   "id": "e0ff250d",
   "metadata": {},
   "source": [
    "### fixing datatypes of columns"
   ]
  },
  {
   "cell_type": "code",
   "execution_count": null,
   "id": "68241c51",
   "metadata": {
    "scrolled": true
   },
   "outputs": [],
   "source": [
    "data_types_dict = {'names': str, 'Induction Year': 'int64'}\n",
    "country_df = country_df.astype(data_types_dict)\n",
    "country_df.info()"
   ]
  },
  {
   "cell_type": "code",
   "execution_count": null,
   "id": "0b597bc8",
   "metadata": {
    "scrolled": false
   },
   "outputs": [],
   "source": [
    "# country_df.value_counts(\"Induction Year\") \n",
    "# country_df.sort_values(\"Induction Year\")\n",
    "# plt.bar(country_df[\"Induction Year\"], country_df[\"Induction Year\"].value_counts())\n",
    "\n",
    "country_df['Induction Year'].value_counts().sort_index().plot(kind='bar', figsize=(18, 6));\n"
   ]
  },
  {
   "cell_type": "code",
   "execution_count": null,
   "id": "a4c2b4b4",
   "metadata": {
    "scrolled": true
   },
   "outputs": [],
   "source": [
    "country_df['namelen'] = country_df.apply(lambda x: len(x.names), axis=1)\n",
    "country_df[0:50]"
   ]
  },
  {
   "cell_type": "code",
   "execution_count": null,
   "id": "b70440a5",
   "metadata": {},
   "outputs": [],
   "source": [
    "sorted_df = country_df.sort_values(\"Induction Year\")\n",
    "sorted_df\n"
   ]
  },
  {
   "cell_type": "code",
   "execution_count": null,
   "id": "a2201622",
   "metadata": {
    "scrolled": true
   },
   "outputs": [],
   "source": [
    "sns.stripplot(y = sorted_df[\"Induction Year\"], x = sorted_df['namelen'])\n",
    "plt.title(\"Name lengths of Winners Over Decades\")\n",
    "plt.show()"
   ]
  },
  {
   "cell_type": "markdown",
   "id": "f60b1313",
   "metadata": {},
   "source": [
    "### Bonus Zone"
   ]
  },
  {
   "cell_type": "code",
   "execution_count": null,
   "id": "d3f81827",
   "metadata": {},
   "outputs": [],
   "source": [
    "#list for all p tags with info we want\n",
    "biolinks = []"
   ]
  },
  {
   "cell_type": "code",
   "execution_count": null,
   "id": "a92a3f55",
   "metadata": {},
   "outputs": [],
   "source": [
    "#CHEATING!! functions I wrote before with soup sieve\n",
    "def get_attr(sv_target, targetlist, soup, desired_attr=\"href\"):\n",
    "    key_tags1 = sv.select(sv_target, soup)\n",
    "    for link in key_tags1:\n",
    "        targetlist.append(link.get(desired_attr))\n",
    "\n",
    "def get_text(sv_target, targetlist, soup):\n",
    "    key_tags2 = sv.select(sv_target, soup)\n",
    "    for tag2 in key_tags2:\n",
    "        targetlist.append(tag2.text)"
   ]
  },
  {
   "cell_type": "code",
   "execution_count": null,
   "id": "2c648520",
   "metadata": {},
   "outputs": [],
   "source": [
    "for site in sites_list:\n",
    "    response = requests.get(site)\n",
    "    soup = BeautifulSoup(response.content, 'lxml')\n",
    "    smallsoup = soup.find('div', {'class': 'vertical-cards-container'})\n",
    "    #loop to get bio urls\n",
    "    get_attr(\"div.fbyf-btn-wrapper.inline-text > a\", biolinks, smallsoup)"
   ]
  },
  {
   "cell_type": "code",
   "execution_count": null,
   "id": "20ca4439",
   "metadata": {},
   "outputs": [],
   "source": [
    "len(biolinks)"
   ]
  },
  {
   "cell_type": "markdown",
   "id": "cd70a73c",
   "metadata": {},
   "source": [
    "### getting info on each bio page"
   ]
  },
  {
   "cell_type": "code",
   "execution_count": null,
   "id": "9bd77c46",
   "metadata": {},
   "outputs": [],
   "source": [
    "lifeinfo = []"
   ]
  },
  {
   "cell_type": "code",
   "execution_count": null,
   "id": "ba80b469",
   "metadata": {},
   "outputs": [],
   "source": [
    "for site in biolinks:\n",
    "    response = requests.get(site)\n",
    "    soup = BeautifulSoup(response.content, 'lxml')\n",
    "    targetsoup = soup.find('div', {'class': 'hero-left'})\n",
    "    get_text(\"div p:last-child\", lifeinfo, targetsoup)"
   ]
  },
  {
   "cell_type": "code",
   "execution_count": null,
   "id": "1f02d54e",
   "metadata": {
    "scrolled": false
   },
   "outputs": [],
   "source": [
    "len(lifeinfo)"
   ]
  },
  {
   "cell_type": "markdown",
   "id": "3a7e46c0",
   "metadata": {},
   "source": [
    "### pulling out specfic infos we need"
   ]
  },
  {
   "cell_type": "code",
   "execution_count": null,
   "id": "7dbd73a7",
   "metadata": {},
   "outputs": [],
   "source": [
    "birthlist = []\n",
    "deathlist = []\n",
    "birthplacelist = []"
   ]
  },
  {
   "cell_type": "code",
   "execution_count": null,
   "id": "80b486fa",
   "metadata": {},
   "outputs": [],
   "source": [
    "for line in lifeinfo:\n",
    "    try:\n",
    "        birthdate = re.search(r'Birth:\\s\\w+\\s\\d+,\\s\\d{4}', line)\n",
    "        birthlist.append(birthdate.group())\n",
    "    except:\n",
    "        birthlist.append(\"\")\n",
    "    try:\n",
    "        deathdate = re.search(r'Death:\\s\\w+\\s\\d+,\\s\\d{4}', line)\n",
    "        deathlist.append(deathdate.group())\n",
    "    except:\n",
    "        deathlist.append(\"\")\n",
    "    try:\n",
    "        birthplace = re.search(r'Birthplace:\\s\\w+,\\s\\D+', line) #this needs fixin!\n",
    "        birthplacelist.append(birthplace.group())\n",
    "    except:\n",
    "        birthplacelist.append(\"\")\n",
    "        "
   ]
  },
  {
   "cell_type": "markdown",
   "id": "cfba036c",
   "metadata": {},
   "source": [
    "### cleaning up the lists a bit"
   ]
  },
  {
   "cell_type": "code",
   "execution_count": null,
   "id": "c922ad80",
   "metadata": {},
   "outputs": [],
   "source": [
    "cleanbirth = []\n",
    "cleandeath = []\n",
    "cleanbirthplace = []"
   ]
  },
  {
   "cell_type": "code",
   "execution_count": null,
   "id": "861820e4",
   "metadata": {
    "scrolled": true
   },
   "outputs": [],
   "source": [
    "# birthlist[0]"
   ]
  },
  {
   "cell_type": "code",
   "execution_count": null,
   "id": "752f2f71",
   "metadata": {},
   "outputs": [],
   "source": [
    "# birthlist[0][7:]"
   ]
  },
  {
   "cell_type": "code",
   "execution_count": null,
   "id": "6cdf9b16",
   "metadata": {},
   "outputs": [],
   "source": [
    "for line in birthlist:\n",
    "    cleanline = line[7:]\n",
    "    cleanbirth.append(cleanline)"
   ]
  },
  {
   "cell_type": "code",
   "execution_count": null,
   "id": "04c2060a",
   "metadata": {
    "scrolled": false
   },
   "outputs": [],
   "source": [
    "# cleanbirth"
   ]
  },
  {
   "cell_type": "code",
   "execution_count": null,
   "id": "06db8be3",
   "metadata": {
    "scrolled": false
   },
   "outputs": [],
   "source": [
    "# deathlist"
   ]
  },
  {
   "cell_type": "code",
   "execution_count": null,
   "id": "f5f6d405",
   "metadata": {},
   "outputs": [],
   "source": [
    "for line in deathlist:\n",
    "    cleanline = line[7:]\n",
    "    cleandeath.append(cleanline)"
   ]
  },
  {
   "cell_type": "code",
   "execution_count": null,
   "id": "09e0ee43",
   "metadata": {
    "scrolled": false
   },
   "outputs": [],
   "source": [
    "# cleandeath"
   ]
  },
  {
   "cell_type": "code",
   "execution_count": null,
   "id": "6e4e99a5",
   "metadata": {
    "scrolled": false
   },
   "outputs": [],
   "source": [
    "# birthplacelist"
   ]
  },
  {
   "cell_type": "code",
   "execution_count": null,
   "id": "36aa2dec",
   "metadata": {},
   "outputs": [],
   "source": [
    "# birthplacelist[0][12:]"
   ]
  },
  {
   "cell_type": "code",
   "execution_count": null,
   "id": "2e4e47ed",
   "metadata": {},
   "outputs": [],
   "source": [
    "for line in birthplacelist:\n",
    "    cleanline = line[12:]\n",
    "    cleanbirthplace.append(cleanline)"
   ]
  },
  {
   "cell_type": "code",
   "execution_count": null,
   "id": "6bdfd2a1",
   "metadata": {},
   "outputs": [],
   "source": [
    "# cleanbirthplace"
   ]
  },
  {
   "cell_type": "markdown",
   "id": "80cef199",
   "metadata": {},
   "source": [
    "### add clean lists to country_df"
   ]
  },
  {
   "cell_type": "code",
   "execution_count": null,
   "id": "9ae09584",
   "metadata": {},
   "outputs": [],
   "source": [
    "# country_df = country_df.drop(\"Birth\", axis = 1)"
   ]
  },
  {
   "cell_type": "code",
   "execution_count": null,
   "id": "a4ca7c8d",
   "metadata": {
    "scrolled": true
   },
   "outputs": [],
   "source": [
    "country_df[\"Birth Date\"] = cleanbirth\n",
    "country_df[\"Death Date\"] = cleandeath\n",
    "country_df[\"Birthplace\"] = cleanbirthplace"
   ]
  },
  {
   "cell_type": "markdown",
   "id": "cbe0a93d",
   "metadata": {},
   "source": [
    "# final result"
   ]
  },
  {
   "cell_type": "code",
   "execution_count": null,
   "id": "2bf9ac7c",
   "metadata": {
    "scrolled": true
   },
   "outputs": [],
   "source": [
    "country_df"
   ]
  },
  {
   "cell_type": "markdown",
   "id": "463c3876",
   "metadata": {},
   "source": [
    "### cool ideas for this data:\n",
    "- visualize how old people were when they were inducted (avg. age, median age, max age, min age, etc.)\n",
    "- see how many people were inducted before vs. after their death (would need to convert columns to datetime for comparison)"
   ]
  }
 ],
 "metadata": {
  "kernelspec": {
   "display_name": "Python 3",
   "language": "python",
   "name": "python3"
  },
  "language_info": {
   "codemirror_mode": {
    "name": "ipython",
    "version": 3
   },
   "file_extension": ".py",
   "mimetype": "text/x-python",
   "name": "python",
   "nbconvert_exporter": "python",
   "pygments_lexer": "ipython3",
   "version": "3.8.8"
  }
 },
 "nbformat": 4,
 "nbformat_minor": 5
}
